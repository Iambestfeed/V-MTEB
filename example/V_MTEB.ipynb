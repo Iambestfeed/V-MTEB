{
 "cells": [
  {
   "cell_type": "code",
   "execution_count": 23,
   "metadata": {},
   "outputs": [
    {
     "name": "stdout",
     "output_type": "stream",
     "text": [
      "/home/nhan-softzone/V-MTEB\n"
     ]
    }
   ],
   "source": [
    "%cd /home/nhan-softzone/V-MTEB"
   ]
  },
  {
   "cell_type": "code",
   "execution_count": 24,
   "metadata": {},
   "outputs": [],
   "source": [
    "from mteb import MTEB\n",
    "from V_MTEB import *\n",
    "from sentence_transformers import SentenceTransformer\n",
    "\n",
    "# Define the sentence-transformers model name\n",
    "model_name = \"iambestfeed/phobert_retrieval\"\n",
    "\n",
    "model = SentenceTransformer(model_name)"
   ]
  },
  {
   "cell_type": "code",
   "execution_count": 25,
   "metadata": {},
   "outputs": [],
   "source": [
    "evaluation = MTEB(tasks=[\"Vietnamese_Student_Sentiment_Wseg\", \"Vietnamese_Student_Topic_Wseg\"])"
   ]
  },
  {
   "cell_type": "code",
   "execution_count": 26,
   "metadata": {},
   "outputs": [
    {
     "data": {
      "text/html": [
       "<pre style=\"white-space:pre;overflow-x:auto;line-height:normal;font-family:Menlo,'DejaVu Sans Mono',consolas,'Courier New',monospace\"><span style=\"color: #262626; text-decoration-color: #262626\">───────────────────────────────────────────────── </span><span style=\"font-weight: bold\">Selected tasks </span><span style=\"color: #262626; text-decoration-color: #262626\"> ─────────────────────────────────────────────────</span>\n",
       "</pre>\n"
      ],
      "text/plain": [
       "\u001b[38;5;235m───────────────────────────────────────────────── \u001b[0m\u001b[1mSelected tasks \u001b[0m\u001b[38;5;235m ─────────────────────────────────────────────────\u001b[0m\n"
      ]
     },
     "metadata": {},
     "output_type": "display_data"
    },
    {
     "data": {
      "text/html": [
       "<pre style=\"white-space:pre;overflow-x:auto;line-height:normal;font-family:Menlo,'DejaVu Sans Mono',consolas,'Courier New',monospace\"><span style=\"font-weight: bold\">Classification</span>\n",
       "</pre>\n"
      ],
      "text/plain": [
       "\u001b[1mClassification\u001b[0m\n"
      ]
     },
     "metadata": {},
     "output_type": "display_data"
    },
    {
     "data": {
      "text/html": [
       "<pre style=\"white-space:pre;overflow-x:auto;line-height:normal;font-family:Menlo,'DejaVu Sans Mono',consolas,'Courier New',monospace\">    - Vietnamese_Student_Sentiment_Wseg, <span style=\"color: #626262; text-decoration-color: #626262; font-style: italic\">s2s</span>\n",
       "</pre>\n"
      ],
      "text/plain": [
       "    - Vietnamese_Student_Sentiment_Wseg, \u001b[3;38;5;241ms2s\u001b[0m\n"
      ]
     },
     "metadata": {},
     "output_type": "display_data"
    },
    {
     "data": {
      "text/html": [
       "<pre style=\"white-space:pre;overflow-x:auto;line-height:normal;font-family:Menlo,'DejaVu Sans Mono',consolas,'Courier New',monospace\">    - Vietnamese_Student_Topic_Wseg, <span style=\"color: #626262; text-decoration-color: #626262; font-style: italic\">s2s</span>\n",
       "</pre>\n"
      ],
      "text/plain": [
       "    - Vietnamese_Student_Topic_Wseg, \u001b[3;38;5;241ms2s\u001b[0m\n"
      ]
     },
     "metadata": {},
     "output_type": "display_data"
    },
    {
     "data": {
      "text/html": [
       "<pre style=\"white-space:pre;overflow-x:auto;line-height:normal;font-family:Menlo,'DejaVu Sans Mono',consolas,'Courier New',monospace\">\n",
       "\n",
       "</pre>\n"
      ],
      "text/plain": [
       "\n",
       "\n"
      ]
     },
     "metadata": {},
     "output_type": "display_data"
    }
   ],
   "source": [
    "results_finetune_model = evaluation.run(model,\n",
    "                         output_folder=f\"vi_results/{model_name}\",\n",
    "                         overwrite_results = True)"
   ]
  },
  {
   "cell_type": "code",
   "execution_count": 27,
   "metadata": {},
   "outputs": [],
   "source": [
    "results_finetune_model = {'Vietnamese_Student_Sentiment_Wseg': {'mteb_version': '1.1.3.dev0',\n",
    "  'dataset_revision': None,\n",
    "  'mteb_dataset_name': 'Vietnamese_Student_Sentiment_Wseg',\n",
    "  'validation': {'accuracy': 0.8249526216045483,\n",
    "   'f1': 0.689190275538073,\n",
    "   'accuracy_stderr': 0.011714637620107823,\n",
    "   'f1_stderr': 0.010794704089009123,\n",
    "   'main_score': 0.8249526216045483,\n",
    "   'evaluation_time': 10.81},\n",
    "  'test': {'accuracy': 0.8125394819962098,\n",
    "   'f1': 0.6882055759031228,\n",
    "   'accuracy_stderr': 0.01166381299133755,\n",
    "   'f1_stderr': 0.012368279237176713,\n",
    "   'main_score': 0.8125394819962098,\n",
    "   'evaluation_time': 7.5}},\n",
    " 'Vietnamese_Student_Topic_Wseg': {'mteb_version': '1.1.3.dev0',\n",
    "  'dataset_revision': None,\n",
    "  'mteb_dataset_name': 'Vietnamese_Student_Topic_Wseg',\n",
    "  'validation': {'accuracy': 0.7461149715729627,\n",
    "   'f1': 0.6700381913739435,\n",
    "   'accuracy_stderr': 0.016527327727898552,\n",
    "   'f1_stderr': 0.0077584646889738585,\n",
    "   'main_score': 0.7461149715729627,\n",
    "   'evaluation_time': 6.7},\n",
    "  'test': {'accuracy': 0.7311118130132659,\n",
    "   'f1': 0.6509154417735795,\n",
    "   'accuracy_stderr': 0.018533533676817638,\n",
    "   'f1_stderr': 0.012251377841153935,\n",
    "   'main_score': 0.7311118130132659,\n",
    "   'evaluation_time': 7.88}}}"
   ]
  },
  {
   "cell_type": "code",
   "execution_count": 28,
   "metadata": {},
   "outputs": [
    {
     "data": {
      "text/html": [
       "<pre style=\"white-space:pre;overflow-x:auto;line-height:normal;font-family:Menlo,'DejaVu Sans Mono',consolas,'Courier New',monospace\"><span style=\"color: #262626; text-decoration-color: #262626\">───────────────────────────────────────────────── </span><span style=\"font-weight: bold\">Selected tasks </span><span style=\"color: #262626; text-decoration-color: #262626\"> ─────────────────────────────────────────────────</span>\n",
       "</pre>\n"
      ],
      "text/plain": [
       "\u001b[38;5;235m───────────────────────────────────────────────── \u001b[0m\u001b[1mSelected tasks \u001b[0m\u001b[38;5;235m ─────────────────────────────────────────────────\u001b[0m\n"
      ]
     },
     "metadata": {},
     "output_type": "display_data"
    },
    {
     "data": {
      "text/html": [
       "<pre style=\"white-space:pre;overflow-x:auto;line-height:normal;font-family:Menlo,'DejaVu Sans Mono',consolas,'Courier New',monospace\"><span style=\"font-weight: bold\">Classification</span>\n",
       "</pre>\n"
      ],
      "text/plain": [
       "\u001b[1mClassification\u001b[0m\n"
      ]
     },
     "metadata": {},
     "output_type": "display_data"
    },
    {
     "data": {
      "text/html": [
       "<pre style=\"white-space:pre;overflow-x:auto;line-height:normal;font-family:Menlo,'DejaVu Sans Mono',consolas,'Courier New',monospace\">    - Vietnamese_Student_Sentiment_Wseg, <span style=\"color: #626262; text-decoration-color: #626262; font-style: italic\">s2s</span>\n",
       "</pre>\n"
      ],
      "text/plain": [
       "    - Vietnamese_Student_Sentiment_Wseg, \u001b[3;38;5;241ms2s\u001b[0m\n"
      ]
     },
     "metadata": {},
     "output_type": "display_data"
    },
    {
     "data": {
      "text/html": [
       "<pre style=\"white-space:pre;overflow-x:auto;line-height:normal;font-family:Menlo,'DejaVu Sans Mono',consolas,'Courier New',monospace\">    - Vietnamese_Student_Topic_Wseg, <span style=\"color: #626262; text-decoration-color: #626262; font-style: italic\">s2s</span>\n",
       "</pre>\n"
      ],
      "text/plain": [
       "    - Vietnamese_Student_Topic_Wseg, \u001b[3;38;5;241ms2s\u001b[0m\n"
      ]
     },
     "metadata": {},
     "output_type": "display_data"
    },
    {
     "data": {
      "text/html": [
       "<pre style=\"white-space:pre;overflow-x:auto;line-height:normal;font-family:Menlo,'DejaVu Sans Mono',consolas,'Courier New',monospace\">\n",
       "\n",
       "</pre>\n"
      ],
      "text/plain": [
       "\n",
       "\n"
      ]
     },
     "metadata": {},
     "output_type": "display_data"
    }
   ],
   "source": [
    "model_name = \"bkai-foundation-models/vietnamese-bi-encoder\"\n",
    "\n",
    "model = SentenceTransformer(model_name)\n",
    "\n",
    "evaluation = MTEB(tasks=[\"Vietnamese_Student_Sentiment_Wseg\", \"Vietnamese_Student_Topic_Wseg\"])\n",
    "\n",
    "results_vibiencoder = evaluation.run(model,\n",
    "                         output_folder=f\"vi_results/{model_name}\",\n",
    "                         overwrite_results = True)"
   ]
  },
  {
   "cell_type": "code",
   "execution_count": 29,
   "metadata": {},
   "outputs": [
    {
     "name": "stderr",
     "output_type": "stream",
     "text": [
      "No sentence-transformers model found with name vinai/phobert-base-v2. Creating a new one with MEAN pooling.\n"
     ]
    },
    {
     "data": {
      "application/vnd.jupyter.widget-view+json": {
       "model_id": "1d80372ebe064dd09bfbebe7fd334fd6",
       "version_major": 2,
       "version_minor": 0
      },
      "text/plain": [
       "config.json:   0%|          | 0.00/678 [00:00<?, ?B/s]"
      ]
     },
     "metadata": {},
     "output_type": "display_data"
    },
    {
     "data": {
      "application/vnd.jupyter.widget-view+json": {
       "model_id": "7b3f86488f2e4171b90217cadcdeecec",
       "version_major": 2,
       "version_minor": 0
      },
      "text/plain": [
       "pytorch_model.bin:   0%|          | 0.00/540M [00:00<?, ?B/s]"
      ]
     },
     "metadata": {},
     "output_type": "display_data"
    },
    {
     "name": "stderr",
     "output_type": "stream",
     "text": [
      "Some weights of RobertaModel were not initialized from the model checkpoint at vinai/phobert-base-v2 and are newly initialized: ['roberta.pooler.dense.bias', 'roberta.pooler.dense.weight']\n",
      "You should probably TRAIN this model on a down-stream task to be able to use it for predictions and inference.\n"
     ]
    },
    {
     "data": {
      "application/vnd.jupyter.widget-view+json": {
       "model_id": "b4fe0cab16c54e13af7d10278015f493",
       "version_major": 2,
       "version_minor": 0
      },
      "text/plain": [
       "vocab.txt:   0%|          | 0.00/895k [00:00<?, ?B/s]"
      ]
     },
     "metadata": {},
     "output_type": "display_data"
    },
    {
     "data": {
      "application/vnd.jupyter.widget-view+json": {
       "model_id": "8c88cff33a254d06834f8bbe0c3d1d93",
       "version_major": 2,
       "version_minor": 0
      },
      "text/plain": [
       "bpe.codes:   0%|          | 0.00/1.14M [00:00<?, ?B/s]"
      ]
     },
     "metadata": {},
     "output_type": "display_data"
    },
    {
     "data": {
      "application/vnd.jupyter.widget-view+json": {
       "model_id": "1cb4d65644094abdb45be6a7d57cb6ff",
       "version_major": 2,
       "version_minor": 0
      },
      "text/plain": [
       "tokenizer.json:   0%|          | 0.00/3.13M [00:00<?, ?B/s]"
      ]
     },
     "metadata": {},
     "output_type": "display_data"
    },
    {
     "data": {
      "text/html": [
       "<pre style=\"white-space:pre;overflow-x:auto;line-height:normal;font-family:Menlo,'DejaVu Sans Mono',consolas,'Courier New',monospace\"><span style=\"color: #262626; text-decoration-color: #262626\">───────────────────────────────────────────────── </span><span style=\"font-weight: bold\">Selected tasks </span><span style=\"color: #262626; text-decoration-color: #262626\"> ─────────────────────────────────────────────────</span>\n",
       "</pre>\n"
      ],
      "text/plain": [
       "\u001b[38;5;235m───────────────────────────────────────────────── \u001b[0m\u001b[1mSelected tasks \u001b[0m\u001b[38;5;235m ─────────────────────────────────────────────────\u001b[0m\n"
      ]
     },
     "metadata": {},
     "output_type": "display_data"
    },
    {
     "data": {
      "text/html": [
       "<pre style=\"white-space:pre;overflow-x:auto;line-height:normal;font-family:Menlo,'DejaVu Sans Mono',consolas,'Courier New',monospace\"><span style=\"font-weight: bold\">Classification</span>\n",
       "</pre>\n"
      ],
      "text/plain": [
       "\u001b[1mClassification\u001b[0m\n"
      ]
     },
     "metadata": {},
     "output_type": "display_data"
    },
    {
     "data": {
      "text/html": [
       "<pre style=\"white-space:pre;overflow-x:auto;line-height:normal;font-family:Menlo,'DejaVu Sans Mono',consolas,'Courier New',monospace\">    - Vietnamese_Student_Sentiment_Wseg, <span style=\"color: #626262; text-decoration-color: #626262; font-style: italic\">s2s</span>\n",
       "</pre>\n"
      ],
      "text/plain": [
       "    - Vietnamese_Student_Sentiment_Wseg, \u001b[3;38;5;241ms2s\u001b[0m\n"
      ]
     },
     "metadata": {},
     "output_type": "display_data"
    },
    {
     "data": {
      "text/html": [
       "<pre style=\"white-space:pre;overflow-x:auto;line-height:normal;font-family:Menlo,'DejaVu Sans Mono',consolas,'Courier New',monospace\">    - Vietnamese_Student_Topic_Wseg, <span style=\"color: #626262; text-decoration-color: #626262; font-style: italic\">s2s</span>\n",
       "</pre>\n"
      ],
      "text/plain": [
       "    - Vietnamese_Student_Topic_Wseg, \u001b[3;38;5;241ms2s\u001b[0m\n"
      ]
     },
     "metadata": {},
     "output_type": "display_data"
    },
    {
     "data": {
      "text/html": [
       "<pre style=\"white-space:pre;overflow-x:auto;line-height:normal;font-family:Menlo,'DejaVu Sans Mono',consolas,'Courier New',monospace\">\n",
       "\n",
       "</pre>\n"
      ],
      "text/plain": [
       "\n",
       "\n"
      ]
     },
     "metadata": {},
     "output_type": "display_data"
    },
    {
     "name": "stderr",
     "output_type": "stream",
     "text": [
      "/home/nhan-softzone/.local/lib/python3.10/site-packages/sklearn/linear_model/_logistic.py:458: ConvergenceWarning: lbfgs failed to converge (status=1):\n",
      "STOP: TOTAL NO. of ITERATIONS REACHED LIMIT.\n",
      "\n",
      "Increase the number of iterations (max_iter) or scale the data as shown in:\n",
      "    https://scikit-learn.org/stable/modules/preprocessing.html\n",
      "Please also refer to the documentation for alternative solver options:\n",
      "    https://scikit-learn.org/stable/modules/linear_model.html#logistic-regression\n",
      "  n_iter_i = _check_optimize_result(\n",
      "/home/nhan-softzone/.local/lib/python3.10/site-packages/sklearn/linear_model/_logistic.py:458: ConvergenceWarning: lbfgs failed to converge (status=1):\n",
      "STOP: TOTAL NO. of ITERATIONS REACHED LIMIT.\n",
      "\n",
      "Increase the number of iterations (max_iter) or scale the data as shown in:\n",
      "    https://scikit-learn.org/stable/modules/preprocessing.html\n",
      "Please also refer to the documentation for alternative solver options:\n",
      "    https://scikit-learn.org/stable/modules/linear_model.html#logistic-regression\n",
      "  n_iter_i = _check_optimize_result(\n",
      "/home/nhan-softzone/.local/lib/python3.10/site-packages/sklearn/linear_model/_logistic.py:458: ConvergenceWarning: lbfgs failed to converge (status=1):\n",
      "STOP: TOTAL NO. of ITERATIONS REACHED LIMIT.\n",
      "\n",
      "Increase the number of iterations (max_iter) or scale the data as shown in:\n",
      "    https://scikit-learn.org/stable/modules/preprocessing.html\n",
      "Please also refer to the documentation for alternative solver options:\n",
      "    https://scikit-learn.org/stable/modules/linear_model.html#logistic-regression\n",
      "  n_iter_i = _check_optimize_result(\n",
      "/home/nhan-softzone/.local/lib/python3.10/site-packages/sklearn/linear_model/_logistic.py:458: ConvergenceWarning: lbfgs failed to converge (status=1):\n",
      "STOP: TOTAL NO. of ITERATIONS REACHED LIMIT.\n",
      "\n",
      "Increase the number of iterations (max_iter) or scale the data as shown in:\n",
      "    https://scikit-learn.org/stable/modules/preprocessing.html\n",
      "Please also refer to the documentation for alternative solver options:\n",
      "    https://scikit-learn.org/stable/modules/linear_model.html#logistic-regression\n",
      "  n_iter_i = _check_optimize_result(\n",
      "/home/nhan-softzone/.local/lib/python3.10/site-packages/sklearn/linear_model/_logistic.py:458: ConvergenceWarning: lbfgs failed to converge (status=1):\n",
      "STOP: TOTAL NO. of ITERATIONS REACHED LIMIT.\n",
      "\n",
      "Increase the number of iterations (max_iter) or scale the data as shown in:\n",
      "    https://scikit-learn.org/stable/modules/preprocessing.html\n",
      "Please also refer to the documentation for alternative solver options:\n",
      "    https://scikit-learn.org/stable/modules/linear_model.html#logistic-regression\n",
      "  n_iter_i = _check_optimize_result(\n",
      "/home/nhan-softzone/.local/lib/python3.10/site-packages/sklearn/linear_model/_logistic.py:458: ConvergenceWarning: lbfgs failed to converge (status=1):\n",
      "STOP: TOTAL NO. of ITERATIONS REACHED LIMIT.\n",
      "\n",
      "Increase the number of iterations (max_iter) or scale the data as shown in:\n",
      "    https://scikit-learn.org/stable/modules/preprocessing.html\n",
      "Please also refer to the documentation for alternative solver options:\n",
      "    https://scikit-learn.org/stable/modules/linear_model.html#logistic-regression\n",
      "  n_iter_i = _check_optimize_result(\n",
      "/home/nhan-softzone/.local/lib/python3.10/site-packages/sklearn/linear_model/_logistic.py:458: ConvergenceWarning: lbfgs failed to converge (status=1):\n",
      "STOP: TOTAL NO. of ITERATIONS REACHED LIMIT.\n",
      "\n",
      "Increase the number of iterations (max_iter) or scale the data as shown in:\n",
      "    https://scikit-learn.org/stable/modules/preprocessing.html\n",
      "Please also refer to the documentation for alternative solver options:\n",
      "    https://scikit-learn.org/stable/modules/linear_model.html#logistic-regression\n",
      "  n_iter_i = _check_optimize_result(\n",
      "/home/nhan-softzone/.local/lib/python3.10/site-packages/sklearn/linear_model/_logistic.py:458: ConvergenceWarning: lbfgs failed to converge (status=1):\n",
      "STOP: TOTAL NO. of ITERATIONS REACHED LIMIT.\n",
      "\n",
      "Increase the number of iterations (max_iter) or scale the data as shown in:\n",
      "    https://scikit-learn.org/stable/modules/preprocessing.html\n",
      "Please also refer to the documentation for alternative solver options:\n",
      "    https://scikit-learn.org/stable/modules/linear_model.html#logistic-regression\n",
      "  n_iter_i = _check_optimize_result(\n",
      "/home/nhan-softzone/.local/lib/python3.10/site-packages/sklearn/linear_model/_logistic.py:458: ConvergenceWarning: lbfgs failed to converge (status=1):\n",
      "STOP: TOTAL NO. of ITERATIONS REACHED LIMIT.\n",
      "\n",
      "Increase the number of iterations (max_iter) or scale the data as shown in:\n",
      "    https://scikit-learn.org/stable/modules/preprocessing.html\n",
      "Please also refer to the documentation for alternative solver options:\n",
      "    https://scikit-learn.org/stable/modules/linear_model.html#logistic-regression\n",
      "  n_iter_i = _check_optimize_result(\n",
      "/home/nhan-softzone/.local/lib/python3.10/site-packages/sklearn/linear_model/_logistic.py:458: ConvergenceWarning: lbfgs failed to converge (status=1):\n",
      "STOP: TOTAL NO. of ITERATIONS REACHED LIMIT.\n",
      "\n",
      "Increase the number of iterations (max_iter) or scale the data as shown in:\n",
      "    https://scikit-learn.org/stable/modules/preprocessing.html\n",
      "Please also refer to the documentation for alternative solver options:\n",
      "    https://scikit-learn.org/stable/modules/linear_model.html#logistic-regression\n",
      "  n_iter_i = _check_optimize_result(\n",
      "/home/nhan-softzone/.local/lib/python3.10/site-packages/sklearn/linear_model/_logistic.py:458: ConvergenceWarning: lbfgs failed to converge (status=1):\n",
      "STOP: TOTAL NO. of ITERATIONS REACHED LIMIT.\n",
      "\n",
      "Increase the number of iterations (max_iter) or scale the data as shown in:\n",
      "    https://scikit-learn.org/stable/modules/preprocessing.html\n",
      "Please also refer to the documentation for alternative solver options:\n",
      "    https://scikit-learn.org/stable/modules/linear_model.html#logistic-regression\n",
      "  n_iter_i = _check_optimize_result(\n",
      "/home/nhan-softzone/.local/lib/python3.10/site-packages/sklearn/linear_model/_logistic.py:458: ConvergenceWarning: lbfgs failed to converge (status=1):\n",
      "STOP: TOTAL NO. of ITERATIONS REACHED LIMIT.\n",
      "\n",
      "Increase the number of iterations (max_iter) or scale the data as shown in:\n",
      "    https://scikit-learn.org/stable/modules/preprocessing.html\n",
      "Please also refer to the documentation for alternative solver options:\n",
      "    https://scikit-learn.org/stable/modules/linear_model.html#logistic-regression\n",
      "  n_iter_i = _check_optimize_result(\n",
      "/home/nhan-softzone/.local/lib/python3.10/site-packages/sklearn/linear_model/_logistic.py:458: ConvergenceWarning: lbfgs failed to converge (status=1):\n",
      "STOP: TOTAL NO. of ITERATIONS REACHED LIMIT.\n",
      "\n",
      "Increase the number of iterations (max_iter) or scale the data as shown in:\n",
      "    https://scikit-learn.org/stable/modules/preprocessing.html\n",
      "Please also refer to the documentation for alternative solver options:\n",
      "    https://scikit-learn.org/stable/modules/linear_model.html#logistic-regression\n",
      "  n_iter_i = _check_optimize_result(\n",
      "/home/nhan-softzone/.local/lib/python3.10/site-packages/sklearn/linear_model/_logistic.py:458: ConvergenceWarning: lbfgs failed to converge (status=1):\n",
      "STOP: TOTAL NO. of ITERATIONS REACHED LIMIT.\n",
      "\n",
      "Increase the number of iterations (max_iter) or scale the data as shown in:\n",
      "    https://scikit-learn.org/stable/modules/preprocessing.html\n",
      "Please also refer to the documentation for alternative solver options:\n",
      "    https://scikit-learn.org/stable/modules/linear_model.html#logistic-regression\n",
      "  n_iter_i = _check_optimize_result(\n",
      "/home/nhan-softzone/.local/lib/python3.10/site-packages/sklearn/linear_model/_logistic.py:458: ConvergenceWarning: lbfgs failed to converge (status=1):\n",
      "STOP: TOTAL NO. of ITERATIONS REACHED LIMIT.\n",
      "\n",
      "Increase the number of iterations (max_iter) or scale the data as shown in:\n",
      "    https://scikit-learn.org/stable/modules/preprocessing.html\n",
      "Please also refer to the documentation for alternative solver options:\n",
      "    https://scikit-learn.org/stable/modules/linear_model.html#logistic-regression\n",
      "  n_iter_i = _check_optimize_result(\n",
      "/home/nhan-softzone/.local/lib/python3.10/site-packages/sklearn/linear_model/_logistic.py:458: ConvergenceWarning: lbfgs failed to converge (status=1):\n",
      "STOP: TOTAL NO. of ITERATIONS REACHED LIMIT.\n",
      "\n",
      "Increase the number of iterations (max_iter) or scale the data as shown in:\n",
      "    https://scikit-learn.org/stable/modules/preprocessing.html\n",
      "Please also refer to the documentation for alternative solver options:\n",
      "    https://scikit-learn.org/stable/modules/linear_model.html#logistic-regression\n",
      "  n_iter_i = _check_optimize_result(\n"
     ]
    }
   ],
   "source": [
    "model_name = \"vinai/phobert-base-v2\"\n",
    "\n",
    "model = SentenceTransformer(model_name)\n",
    "\n",
    "evaluation = MTEB(tasks=[\"Vietnamese_Student_Sentiment_Wseg\", \"Vietnamese_Student_Topic_Wseg\"])\n",
    "\n",
    "results_phobert = evaluation.run(model,\n",
    "                         output_folder=f\"vi_results/{model_name}\",\n",
    "                         overwrite_results = True)"
   ]
  },
  {
   "cell_type": "code",
   "execution_count": 38,
   "metadata": {},
   "outputs": [],
   "source": [
    "results = {'phobert_retrieval' : results_finetune_model,\n",
    "           'vietnamese-bi-encoder' : results_vibiencoder,\n",
    "           'phobert_v2' : results_phobert}"
   ]
  },
  {
   "cell_type": "code",
   "execution_count": null,
   "metadata": {},
   "outputs": [],
   "source": []
  },
  {
   "cell_type": "code",
   "execution_count": 39,
   "metadata": {},
   "outputs": [],
   "source": [
    "import pandas as pd\n",
    "\n",
    "# Convert results to DataFrame\n",
    "data = []\n",
    "for model_name, model_data in results.items():\n",
    "    for task_name, task_data in model_data.items():\n",
    "        task_data_flat = {\n",
    "            \"Model Name\": model_name,\n",
    "            \"Task Name\": task_name,\n",
    "            \"mteb_dataset_name\": task_data[\"mteb_dataset_name\"],\n",
    "            \"Validation Accuracy\": task_data[\"validation\"][\"accuracy\"],\n",
    "            \"Validation F1 Score\": task_data[\"validation\"][\"f1\"],\n",
    "            \"Validation Accuracy StdErr\": task_data[\"validation\"][\"accuracy_stderr\"],\n",
    "            \"Validation F1 Score StdErr\": task_data[\"validation\"][\"f1_stderr\"],\n",
    "            \"Validation Evaluation Time\": task_data[\"validation\"][\"evaluation_time\"],\n",
    "            \"Test Accuracy\": task_data[\"test\"][\"accuracy\"],\n",
    "            \"Test F1 Score\": task_data[\"test\"][\"f1\"],\n",
    "            \"Test Accuracy StdErr\": task_data[\"test\"][\"accuracy_stderr\"],\n",
    "            \"Test F1 Score StdErr\": task_data[\"test\"][\"f1_stderr\"],\n",
    "            \"Test Evaluation Time\": task_data[\"test\"][\"evaluation_time\"]\n",
    "        }\n",
    "        data.append(task_data_flat)\n",
    "\n",
    "df = pd.DataFrame(data)\n"
   ]
  },
  {
   "cell_type": "code",
   "execution_count": 40,
   "metadata": {},
   "outputs": [
    {
     "data": {
      "text/html": [
       "<div>\n",
       "<style scoped>\n",
       "    .dataframe tbody tr th:only-of-type {\n",
       "        vertical-align: middle;\n",
       "    }\n",
       "\n",
       "    .dataframe tbody tr th {\n",
       "        vertical-align: top;\n",
       "    }\n",
       "\n",
       "    .dataframe thead th {\n",
       "        text-align: right;\n",
       "    }\n",
       "</style>\n",
       "<table border=\"1\" class=\"dataframe\">\n",
       "  <thead>\n",
       "    <tr style=\"text-align: right;\">\n",
       "      <th></th>\n",
       "      <th>Model Name</th>\n",
       "      <th>Task Name</th>\n",
       "      <th>mteb_dataset_name</th>\n",
       "      <th>Validation Accuracy</th>\n",
       "      <th>Validation F1 Score</th>\n",
       "      <th>Validation Accuracy StdErr</th>\n",
       "      <th>Validation F1 Score StdErr</th>\n",
       "      <th>Validation Evaluation Time</th>\n",
       "      <th>Test Accuracy</th>\n",
       "      <th>Test F1 Score</th>\n",
       "      <th>Test Accuracy StdErr</th>\n",
       "      <th>Test F1 Score StdErr</th>\n",
       "      <th>Test Evaluation Time</th>\n",
       "    </tr>\n",
       "  </thead>\n",
       "  <tbody>\n",
       "    <tr>\n",
       "      <th>0</th>\n",
       "      <td>phobert_retrieval</td>\n",
       "      <td>Vietnamese_Student_Sentiment_Wseg</td>\n",
       "      <td>Vietnamese_Student_Sentiment_Wseg</td>\n",
       "      <td>0.824953</td>\n",
       "      <td>0.689190</td>\n",
       "      <td>0.011715</td>\n",
       "      <td>0.010795</td>\n",
       "      <td>10.81</td>\n",
       "      <td>0.812539</td>\n",
       "      <td>0.688206</td>\n",
       "      <td>0.011664</td>\n",
       "      <td>0.012368</td>\n",
       "      <td>7.50</td>\n",
       "    </tr>\n",
       "    <tr>\n",
       "      <th>1</th>\n",
       "      <td>phobert_retrieval</td>\n",
       "      <td>Vietnamese_Student_Topic_Wseg</td>\n",
       "      <td>Vietnamese_Student_Topic_Wseg</td>\n",
       "      <td>0.746115</td>\n",
       "      <td>0.670038</td>\n",
       "      <td>0.016527</td>\n",
       "      <td>0.007758</td>\n",
       "      <td>6.70</td>\n",
       "      <td>0.731112</td>\n",
       "      <td>0.650915</td>\n",
       "      <td>0.018534</td>\n",
       "      <td>0.012251</td>\n",
       "      <td>7.88</td>\n",
       "    </tr>\n",
       "    <tr>\n",
       "      <th>2</th>\n",
       "      <td>vietnamese-bi-encoder</td>\n",
       "      <td>Vietnamese_Student_Sentiment_Wseg</td>\n",
       "      <td>Vietnamese_Student_Sentiment_Wseg</td>\n",
       "      <td>0.831080</td>\n",
       "      <td>0.698105</td>\n",
       "      <td>0.014392</td>\n",
       "      <td>0.016038</td>\n",
       "      <td>6.73</td>\n",
       "      <td>0.810392</td>\n",
       "      <td>0.689206</td>\n",
       "      <td>0.013947</td>\n",
       "      <td>0.014377</td>\n",
       "      <td>4.21</td>\n",
       "    </tr>\n",
       "    <tr>\n",
       "      <th>3</th>\n",
       "      <td>vietnamese-bi-encoder</td>\n",
       "      <td>Vietnamese_Student_Topic_Wseg</td>\n",
       "      <td>Vietnamese_Student_Topic_Wseg</td>\n",
       "      <td>0.732280</td>\n",
       "      <td>0.650066</td>\n",
       "      <td>0.021246</td>\n",
       "      <td>0.015705</td>\n",
       "      <td>3.14</td>\n",
       "      <td>0.717688</td>\n",
       "      <td>0.634433</td>\n",
       "      <td>0.023958</td>\n",
       "      <td>0.012942</td>\n",
       "      <td>3.94</td>\n",
       "    </tr>\n",
       "    <tr>\n",
       "      <th>4</th>\n",
       "      <td>phobert_v2</td>\n",
       "      <td>Vietnamese_Student_Sentiment_Wseg</td>\n",
       "      <td>Vietnamese_Student_Sentiment_Wseg</td>\n",
       "      <td>0.779533</td>\n",
       "      <td>0.659250</td>\n",
       "      <td>0.017825</td>\n",
       "      <td>0.016405</td>\n",
       "      <td>3.04</td>\n",
       "      <td>0.765382</td>\n",
       "      <td>0.651117</td>\n",
       "      <td>0.011578</td>\n",
       "      <td>0.009286</td>\n",
       "      <td>4.00</td>\n",
       "    </tr>\n",
       "    <tr>\n",
       "      <th>5</th>\n",
       "      <td>phobert_v2</td>\n",
       "      <td>Vietnamese_Student_Topic_Wseg</td>\n",
       "      <td>Vietnamese_Student_Topic_Wseg</td>\n",
       "      <td>0.714087</td>\n",
       "      <td>0.636212</td>\n",
       "      <td>0.018614</td>\n",
       "      <td>0.011082</td>\n",
       "      <td>3.24</td>\n",
       "      <td>0.699747</td>\n",
       "      <td>0.620244</td>\n",
       "      <td>0.024171</td>\n",
       "      <td>0.012900</td>\n",
       "      <td>4.58</td>\n",
       "    </tr>\n",
       "  </tbody>\n",
       "</table>\n",
       "</div>"
      ],
      "text/plain": [
       "              Model Name                          Task Name  \\\n",
       "0      phobert_retrieval  Vietnamese_Student_Sentiment_Wseg   \n",
       "1      phobert_retrieval      Vietnamese_Student_Topic_Wseg   \n",
       "2  vietnamese-bi-encoder  Vietnamese_Student_Sentiment_Wseg   \n",
       "3  vietnamese-bi-encoder      Vietnamese_Student_Topic_Wseg   \n",
       "4             phobert_v2  Vietnamese_Student_Sentiment_Wseg   \n",
       "5             phobert_v2      Vietnamese_Student_Topic_Wseg   \n",
       "\n",
       "                   mteb_dataset_name  Validation Accuracy  \\\n",
       "0  Vietnamese_Student_Sentiment_Wseg             0.824953   \n",
       "1      Vietnamese_Student_Topic_Wseg             0.746115   \n",
       "2  Vietnamese_Student_Sentiment_Wseg             0.831080   \n",
       "3      Vietnamese_Student_Topic_Wseg             0.732280   \n",
       "4  Vietnamese_Student_Sentiment_Wseg             0.779533   \n",
       "5      Vietnamese_Student_Topic_Wseg             0.714087   \n",
       "\n",
       "   Validation F1 Score  Validation Accuracy StdErr  \\\n",
       "0             0.689190                    0.011715   \n",
       "1             0.670038                    0.016527   \n",
       "2             0.698105                    0.014392   \n",
       "3             0.650066                    0.021246   \n",
       "4             0.659250                    0.017825   \n",
       "5             0.636212                    0.018614   \n",
       "\n",
       "   Validation F1 Score StdErr  Validation Evaluation Time  Test Accuracy  \\\n",
       "0                    0.010795                       10.81       0.812539   \n",
       "1                    0.007758                        6.70       0.731112   \n",
       "2                    0.016038                        6.73       0.810392   \n",
       "3                    0.015705                        3.14       0.717688   \n",
       "4                    0.016405                        3.04       0.765382   \n",
       "5                    0.011082                        3.24       0.699747   \n",
       "\n",
       "   Test F1 Score  Test Accuracy StdErr  Test F1 Score StdErr  \\\n",
       "0       0.688206              0.011664              0.012368   \n",
       "1       0.650915              0.018534              0.012251   \n",
       "2       0.689206              0.013947              0.014377   \n",
       "3       0.634433              0.023958              0.012942   \n",
       "4       0.651117              0.011578              0.009286   \n",
       "5       0.620244              0.024171              0.012900   \n",
       "\n",
       "   Test Evaluation Time  \n",
       "0                  7.50  \n",
       "1                  7.88  \n",
       "2                  4.21  \n",
       "3                  3.94  \n",
       "4                  4.00  \n",
       "5                  4.58  "
      ]
     },
     "execution_count": 40,
     "metadata": {},
     "output_type": "execute_result"
    }
   ],
   "source": [
    "df"
   ]
  },
  {
   "cell_type": "code",
   "execution_count": null,
   "metadata": {},
   "outputs": [],
   "source": []
  }
 ],
 "metadata": {
  "kernelspec": {
   "display_name": "processdata",
   "language": "python",
   "name": "python3"
  },
  "language_info": {
   "codemirror_mode": {
    "name": "ipython",
    "version": 3
   },
   "file_extension": ".py",
   "mimetype": "text/x-python",
   "name": "python",
   "nbconvert_exporter": "python",
   "pygments_lexer": "ipython3",
   "version": "3.10.13"
  }
 },
 "nbformat": 4,
 "nbformat_minor": 2
}
